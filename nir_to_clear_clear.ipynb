{
 "cells": [
  {
   "cell_type": "markdown",
   "id": "8e3dc284",
   "metadata": {},
   "source": [
    "# Импорт основных библиотек из датасета"
   ]
  },
  {
   "cell_type": "code",
   "execution_count": null,
   "id": "39b6a56a",
   "metadata": {},
   "outputs": [],
   "source": [
    "import pandas as pd\n",
    "import seaborn as sns\n",
    "import matplotlib.pyplot as plt\n",
    "import numpy as np\n",
    "\n",
    "import math\n",
    "from sklearn import preprocessing\n",
    "from sklearn.linear_model import LinearRegression\n",
    "import statsmodels.api as sm\n",
    "\n",
    "from sklearn import linear_model\n",
    "from sklearn import metrics\n",
    "\n",
    "# graph (по моему не нужен)\n",
    "import networkx as nx\n",
    "from pyvis.network import Network\n",
    "\n",
    "PATHES = [\"./with_closed_ations_as________select_app_2018_X5_STORES.csv\", \"./with_closed_ations_as________select_app_2019_X5_STORES.csv\", \"./with_closed_ations_as________select_app_2020_X5_STORES.csv\"]\n",
    "# df = pd.read_csv(PATH)\n",
    "df = pd.DataFrame()\n",
    "for path in PATHES:\n",
    "    df1 = pd.read_csv(path)\n",
    "    df = pd.concat([df, df1])\n",
    "    \n",
    "df['action_date'] = pd.to_datetime(df['action_date'])\n",
    "df = df[df['position_name'] == 'Продавец-кассир']"
   ]
  },
  {
   "cell_type": "markdown",
   "id": "b5213cec",
   "metadata": {},
   "source": [
    "# Изменение Bool значений"
   ]
  },
  {
   "cell_type": "code",
   "execution_count": null,
   "id": "b7231bed",
   "metadata": {},
   "outputs": [],
   "source": [
    "df[\"is_active_action\"] = df.is_active_action.replace({True: 1, False: 0})\n",
    "df[\"is_open_action\"] = df.is_open_action.replace({True: 1, False: 0})\n",
    "df"
   ]
  },
  {
   "cell_type": "markdown",
   "id": "90e26d64",
   "metadata": {},
   "source": [
    "# Статистика"
   ]
  },
  {
   "cell_type": "code",
   "execution_count": null,
   "id": "31d5fed3",
   "metadata": {},
   "outputs": [],
   "source": [
    "df = df[df['is_active_action'] == 1]\n",
    "\n",
    "# Декораторы для времени\n",
    "from functools import singledispatch\n",
    "@singledispatch\n",
    "def toDays(time_delta):\n",
    "    return time_delta\n",
    "@toDays.register\n",
    "def _(time_delta: pd.Timedelta):\n",
    "    return time_delta.total_seconds()/60/60/24\n",
    "@toDays.register\n",
    "def _(time_delta: pd.Series):\n",
    "    return time_delta.dt.total_seconds()/60/60/24\n",
    "\n",
    "\n",
    "# Сортируем по аппликантам и по времени\n",
    "df.sort_values(by=['id_applicant','action_date'], ascending = [False,True], inplace = True)\n",
    "df.reset_index(drop = True, inplace = True)\n",
    "\n",
    "# action_time\n",
    "indexes = pd.RangeIndex(len(df) - 1)\n",
    "df['action_time'] = toDays(df.iloc[indexes + 1]['action_date'].reset_index(drop = True) - df['action_date']) # In days\n",
    "df['action_time'].iloc[df[df['id_applicant'] !=  df.iloc[indexes+1].append({'id_applicant': 0}, ignore_index = True)['id_applicant'].reset_index(drop = True)].index] = None\n",
    "\n",
    "# Cреднее по принят\n",
    "df['is_fits'] = 0\n",
    "df.loc[df['result_name'] == 'Принят', 'is_fits'] = 1\n",
    "print('Среднее по принят ')\n",
    "df['is_fits'].mean()"
   ]
  },
  {
   "cell_type": "code",
   "execution_count": null,
   "id": "075b0558",
   "metadata": {},
   "outputs": [],
   "source": [
    "applicants_fits =  df.groupby(['id_applicant'])['is_fits'].sum()\n",
    "applicants_fits.describe()"
   ]
  },
  {
   "cell_type": "code",
   "execution_count": null,
   "id": "9729f079",
   "metadata": {},
   "outputs": [],
   "source": [
    "df['id_applicant'][df['id_applicant'].isin(applicants_fits[applicants_fits > 2].index)].unique()\n",
    "# Очень странные значения!!! Когда два раза принимают там в основном второе оформление - после выхода на работу\n",
    "# Можете смотреть тут\n",
    "# df[df['id_applicant'].isin([4041842])]"
   ]
  },
  {
   "cell_type": "code",
   "execution_count": null,
   "id": "dbcda5d7",
   "metadata": {},
   "outputs": [],
   "source": [
    "df_fits = df[df['id_applicant'].isin(applicants_fits[applicants_fits > 0].index)].reset_index()\n",
    "df_fits = df_fits[df_fits['is_active_action'] == 1]\n",
    "df_fits.describe()"
   ]
  },
  {
   "cell_type": "code",
   "execution_count": null,
   "id": "726bb4a5",
   "metadata": {},
   "outputs": [],
   "source": [
    "len(df_fits['id_applicant'].unique())"
   ]
  },
  {
   "cell_type": "code",
   "execution_count": null,
   "id": "eda6ff11",
   "metadata": {},
   "outputs": [],
   "source": [
    "df_fits['Date_int'] = df_fits['action_date'].values.astype('int64')\n",
    "partner_applicant =  df_fits.groupby(['id_partner','id_applicant'])['Date_int'].max().reset_index()\n",
    "amount_applicant =  partner_applicant.groupby(['id_partner'])['Date_int'].max().reset_index()\n",
    "partner_applicant = partner_applicant[partner_applicant['Date_int'].isin(amount_applicant['Date_int'])]\n",
    "df_fits = pd.DataFrame(df_fits).drop(columns = 'Date_int')\n",
    "\n",
    "df_fits = df_fits[df_fits['id_applicant'].isin(partner_applicant['id_applicant'])].reset_index(drop = True)\n",
    "\n",
    "len(df_fits['id_applicant'].unique())"
   ]
  },
  {
   "cell_type": "code",
   "execution_count": null,
   "id": "76073846",
   "metadata": {},
   "outputs": [],
   "source": [
    "# applicant_min =  df_fits.groupby(['id_applicant'])['action_date'].min().reset_index()\n",
    "fits_max =  df_fits[df_fits['result_name'] == 'Принят'].groupby(['id_applicant'])['action_date'].max().reset_index()\n",
    "fits_max\n",
    "\n",
    "# unused for now\n",
    "# new_tth = pd.DataFrame(applicant_min).drop(columns = 'action_date')\n",
    "# new_tth['tth'] = toDays(fits_min['action_date'] - applicant_min['action_date'])"
   ]
  },
  {
   "cell_type": "code",
   "execution_count": null,
   "id": "a77fb79b",
   "metadata": {},
   "outputs": [],
   "source": [
    "df_fits.loc[df_fits['action_date'].isin(fits_max['action_date']) & (df_fits['action_time'].notna()), 'after_fit'] = 1\n",
    "while True:\n",
    "    after_indexes = df_fits[(df_fits['action_time'].notna())& (df_fits['after_fit'] == 1)].index\n",
    "    after_fit_mask = (df_fits.index.isin(after_indexes + 1) & (df_fits['action_time'].notna())) & df_fits['after_fit'].isna()\n",
    "    print(len(df_fits.loc[after_fit_mask]))\n",
    "    if len(df_fits.loc[after_fit_mask]) == 0:\n",
    "        break\n",
    "    df_fits.loc[after_fit_mask, 'after_fit'] = 1"
   ]
  },
  {
   "cell_type": "markdown",
   "id": "2eb74cd1",
   "metadata": {},
   "source": [
    "# Закомменченые полезные штуки из статистики"
   ]
  },
  {
   "cell_type": "code",
   "execution_count": null,
   "id": "4bca7a2d",
   "metadata": {},
   "outputs": [],
   "source": [
    "# partner_applicant =  df_fits.groupby(['id_partner','id_applicant']).size().reset_index()\n",
    "# amount_applicant =  partner_applicant.groupby(['id_partner'])['id_applicant'].count().reset_index()\n",
    "# partner_applicant.set_index('id_partner', inplace = True)\n",
    "# amount_applicant[amount_applicant['id_applicant']>2]\n",
    "\n",
    "# amount_applicant['id_partner'][amount_applicant['id_applicant']>2].array\n",
    "\n",
    "\n",
    "# df_fits.loc[df_fits.index.isin(after_indexes + 1) & (df_fits['action_time'].notna()),'after_fit'] = 1\n",
    "# ['after_fit']"
   ]
  },
  {
   "cell_type": "code",
   "execution_count": null,
   "id": "f2095341",
   "metadata": {},
   "outputs": [],
   "source": [
    "df_fits.loc[df_fits['after_fit'] == 1, 'action_time'] = 0\n",
    "\n",
    "# Вывод по конкретному аппликанту\n",
    "df_fits[df_fits['id_applicant']== 4886560]"
   ]
  },
  {
   "cell_type": "code",
   "execution_count": null,
   "id": "04287f58",
   "metadata": {},
   "outputs": [],
   "source": [
    "# Статистика по аппликанту\n",
    "applicants_g =  df_fits.dropna(subset=['action_time']).groupby(['id_applicant'])['action_time'].sum()\n",
    "applicants_g.describe()\n",
    "\n",
    "# applicants_g =  df_fits.dropna(subset=['action_time']).groupby(['id_applicant'])['action_time', 'is_fits'].sum()\n",
    "# applicants_g[applicants_g['is_fits']>0].describe()\n",
    "\n",
    "# applicants_g[applicants_g['is_fits']==0].describe()"
   ]
  },
  {
   "cell_type": "code",
   "execution_count": null,
   "id": "c0acccf0",
   "metadata": {},
   "outputs": [],
   "source": [
    "# df['action_time'][df['action_time'] < 0] = None\n",
    "# Статистика по стадиям\n",
    "stage_threshold = 0\n",
    "stages_g =  df_fits.dropna(subset=['action_time']).groupby(['stage_name'])['action_time'].describe() # ['stage_name', 'activity_name']\n",
    "stages_g[stages_g['count'] > stage_threshold]"
   ]
  },
  {
   "cell_type": "code",
   "execution_count": null,
   "id": "f45b2dab",
   "metadata": {},
   "outputs": [],
   "source": [
    "# Статистика по активностям\n",
    "activity_threshold = 0\n",
    "activities_g =  df_fits.dropna(subset=['action_time']).groupby(['activity_name'])['action_time'].describe()\n",
    "activities_g[activities_g['count'] > activity_threshold]"
   ]
  },
  {
   "cell_type": "code",
   "execution_count": null,
   "id": "2082f4cc",
   "metadata": {},
   "outputs": [],
   "source": [
    "# Статисика по результатам\n",
    "result_threshold = 0\n",
    "results_g =  df_fits.dropna(subset=['action_time']).groupby(['result_name'])['action_time'].describe()\n",
    "results_g[results_g['mean'] > 1]"
   ]
  },
  {
   "cell_type": "markdown",
   "id": "a8f93544",
   "metadata": {},
   "source": [
    "# Обнуляем время в результатах без предсказуемой последующей обработки"
   ]
  },
  {
   "cell_type": "code",
   "execution_count": null,
   "id": "6fdf24f1",
   "metadata": {},
   "outputs": [],
   "source": [
    "# Недозвон? Нет обратной связи? Ожидание?\n",
    "results_empty = ['Резерв', 'Не подходит', 'Не принят', 'Отказ кандидата', 'Отказ руководителя', 'Принят', 'Кадровый резерв']\n",
    "for res in results_empty:\n",
    "    df_fits.loc[(df_fits['result_name'] == res) & df_fits['action_time'].notna(), 'action_time'] = 0\n",
    "    \n",
    "df_fits.loc[(df_fits['stage_name'] == 'Создание кандидата') & df_fits['action_time'].notna(), 'action_time'] = 0\n",
    "\n",
    "\n",
    "#TTH\n",
    "df_tth =  df_fits.dropna(subset=['action_time']).groupby(['id_applicant', 'id_partner', 'department_id'])['action_time'].sum().reset_index()\n",
    "df_tth.rename(columns={\"action_time\": \"TTH\"}, inplace = True)\n",
    "# df_tth['TTH'].to_excel('TTH.xlsx')\n",
    "# df_tth = pd.merge(df_tth, df_fits[['id_applicant', 'id_partner']], how = 'right', on=\"id_applicant\")\n",
    "# df_tth = df_tth.join(df_fits.set_index('id_applicant')['id_partner'], on='id_applicant')\n",
    "df_tth"
   ]
  },
  {
   "cell_type": "code",
   "execution_count": null,
   "id": "ee75b0bf",
   "metadata": {},
   "outputs": [],
   "source": [
    "# TTH по департаментам\n",
    "df_tth_dep =  df_fits.dropna(subset=['action_time']).groupby(['id_applicant', 'department_id'])['action_time'].count().reset_index()\n",
    "# df_tth_dep = df_tth_dep.join(df_tth.set_index('id_applicant'), on='id_applicant')\n",
    "# df_tth_dep = pd.merge(df_tth_dep, df_tth[['id_applicant','action_time']], how = 'left', on=\"id_applicant\")\n",
    "df_tth_dep = df_tth_dep.groupby(['department_id']).agg({'id_applicant':'count', 'action_time':'median'}).reset_index()\n",
    "# df_tth_dep.to_excel('TTH_DEP.xlsx')\n",
    "df_tth_dep.rename(columns={\"id_applicant\": \"applicants\",\"action_time\": \"TTH_median\"}, inplace = True)\n",
    "df_tth_dep"
   ]
  },
  {
   "cell_type": "code",
   "execution_count": null,
   "id": "192fbc48",
   "metadata": {},
   "outputs": [],
   "source": [
    "df_fits['place'] = range(0, len(df_fits))\n",
    "df_places = df_fits.groupby(['id_applicant'])['place'].min().reset_index()\n",
    "df_places = df_places.rename(columns={\"place\": 'place_min'})\n",
    "df_fits = pd.merge(df_fits, df_places, how = 'left', on=\"id_applicant\")\n",
    "df_fits['place'] = df_fits['place'] - df_fits['place_min']\n",
    "df_fits = df_fits.drop(['place_min'] , axis=1)\n",
    "\n",
    "\n",
    "\n",
    "from sklearn.ensemble import IsolationForest\n",
    "\n",
    "print(len(df_tth['id_partner'].unique()))\n",
    "print(len(df_tth['id_applicant'].unique()))\n",
    "forest_model=IsolationForest(random_state=0, contamination=.01).fit(df_tth[['TTH']])\n",
    "df_tth['anomaly'] = forest_model.predict(df_tth[['TTH']])\n",
    "df_tth\n",
    "# df_fits"
   ]
  },
  {
   "cell_type": "code",
   "execution_count": null,
   "id": "35c48de0",
   "metadata": {},
   "outputs": [],
   "source": [
    "# График TTH IsolationForest без аномалий\n",
    "def SetTTHLabels(table_name = 'TTH'):\n",
    "    ax.set_title(table_name)\n",
    "    ax.set_xlabel('TTH (Дни)')\n",
    "    ax.set_ylabel('Количество')\n",
    "    \n",
    "fig, ax = plt.subplots(1, 1,figsize=(15,10))\n",
    "bins = 50\n",
    "ax.hist(df_tth['TTH'][(df_tth['anomaly']==1)&(df_tth['TTH']<1000)],bins=bins, color = \"#00b5dd\")\n",
    "SetTTHLabels('TTH IsolationForest без аномалий')\n",
    "plt.show()"
   ]
  },
  {
   "cell_type": "code",
   "execution_count": null,
   "id": "8c7fb7e8",
   "metadata": {},
   "outputs": [],
   "source": [
    "# График TTH IsolationForest с аномалиями\n",
    "fig, ax = plt.subplots(1, 1,figsize=(15,10))\n",
    "bins = 50\n",
    "ax.hist(df_tth['TTH'][(df_tth['anomaly']==-1)&(df_tth['TTH']<1000)],bins=bins, color = \"#00b5dd\")\n",
    "SetTTHLabels('TTH IsolationForest с аномалиями')\n",
    "plt.show()"
   ]
  },
  {
   "cell_type": "code",
   "execution_count": null,
   "id": "5ebc13ca",
   "metadata": {},
   "outputs": [],
   "source": [
    "# Запускать один раз!\n",
    "treshold_down = 0.02\n",
    "treshold_up = df_tth['TTH'].quantile(0.99)\n",
    "print(\"Верхняя граница = \"+ str(treshold_up))\n",
    "df_fits = pd.merge(df_fits, df_tth[['id_applicant', 'TTH']], how = 'left', on=\"id_applicant\")\n",
    "df_tth = pd.DataFrame(df_tth).drop(columns = 'anomaly')\n",
    "\n",
    "df_tth_norm = df_tth[(df_tth['TTH']<treshold_up)&(df_tth['TTH']>treshold_down)]\n",
    "df_tth_small = df_tth[(df_tth['TTH']<treshold_down)]\n",
    "\n",
    "df_norm = df_fits[(df_fits['TTH']<treshold_up)&(df_fits['TTH']>treshold_down)]\n",
    "df_small = df_fits[(df_fits['TTH']<treshold_down)]"
   ]
  },
  {
   "cell_type": "code",
   "execution_count": null,
   "id": "1eda102c",
   "metadata": {},
   "outputs": [],
   "source": [
    "print(\"Количество норм аппликантов = \"+ str(len(df_norm.id_applicant.unique())))\n",
    "print(\"Количество коротких аппликантов = \"+ str(len(df_small.id_applicant.unique())))"
   ]
  },
  {
   "cell_type": "code",
   "execution_count": null,
   "id": "8359d4d4",
   "metadata": {},
   "outputs": [],
   "source": [
    "# Отсортированное среднее по результатам\n",
    "df_norm.groupby(['result_name'])['place'].mean().sort_values()"
   ]
  },
  {
   "cell_type": "code",
   "execution_count": null,
   "id": "c3c9c552",
   "metadata": {},
   "outputs": [],
   "source": [
    "# Отсортированное среднее по стадиям\n",
    "df_norm.groupby(['stage_name'])['place'].mean().sort_values()"
   ]
  },
  {
   "cell_type": "code",
   "execution_count": null,
   "id": "953d19db",
   "metadata": {},
   "outputs": [],
   "source": [
    "# Отсортированное среднее по активностям\n",
    "df_norm.groupby(['activity_name'])['place'].mean().sort_values()"
   ]
  },
  {
   "cell_type": "code",
   "execution_count": null,
   "id": "7ab8cedb",
   "metadata": {},
   "outputs": [],
   "source": [
    "# Какие-то графики\n",
    "def vizScatTTH(df, xColumns, yColumn,  x_c, y_c):\n",
    "    fig, axs = plt.subplots( y_c, x_c, figsize=(15,15))\n",
    "    df = df[df[yColumn] <82]\n",
    "    i = 0\n",
    "    for column in xColumns:\n",
    "        x = int(i / x_c)\n",
    "        y = i % x_c    \n",
    "        axs[x,y].set_ylabel(\"TTH\")\n",
    "        axs[x,y].set_xlabel(column)\n",
    "        axs[x,y].scatter(df[column],df[yColumn],s=3, label=\"original\")\n",
    "        i += 1\n",
    "    plt.show()\n",
    "\n",
    "def columnDiscraber(df, column_name, x_col, y_col):\n",
    "    activites =  df.groupby([column_name])['place'].mean().sort_values().reset_index()[column_name].values\n",
    "\n",
    "    df_activity_mean = df.groupby([column_name, 'id_applicant'])['action_time'].mean().sort_values().reset_index()\n",
    "    df_activity_mean = df_activity_mean.loc[df_activity_mean[column_name].isin(activites)]\n",
    "\n",
    "    temp_df = pd.get_dummies(df_activity_mean[column_name]).rename(columns=lambda x: str(x))\n",
    "    df_activity_mean =  pd.concat((df_activity_mean, temp_df), axis=1)\n",
    "\n",
    "    for activity in activites:\n",
    "        df_activity_mean.loc[df_activity_mean[activity]==1, activity] = df_activity_mean['action_time'] \n",
    "    df_activity_mean.fillna(0)\n",
    "    df_activity_mean = df_activity_mean.groupby(['id_applicant']).sum().reset_index()\n",
    "    df_activity_mean = df_activity_mean.rename(columns={\"action_time\": 'TTH'})\n",
    "    vizScatTTH(df_activity_mean, activites,'TTH', x_col, y_col)"
   ]
  },
  {
   "cell_type": "code",
   "execution_count": null,
   "id": "87659086",
   "metadata": {},
   "outputs": [],
   "source": [
    "# По активностям\n",
    "columnDiscraber(df_norm, 'activity_name', 5, 4)"
   ]
  },
  {
   "cell_type": "code",
   "execution_count": null,
   "id": "06fc3671",
   "metadata": {},
   "outputs": [],
   "source": [
    "# По стадиям\n",
    "columnDiscraber(df_norm, 'stage_name', 4, 4)"
   ]
  },
  {
   "cell_type": "code",
   "execution_count": null,
   "id": "daa553e6",
   "metadata": {},
   "outputs": [],
   "source": [
    "# Похоже что нормирование\n",
    "\n",
    "# df_norm[df_norm['activity_name'] == 'Назначить время на оформление/медосмотр']\n",
    "# df_test_g = df_norm[df_norm['activity_name'] == 'Назначить время на оформление/медосмотр'].groupby(['id_applicant','activity_name']).index.count().reset_index()\n",
    "# df_test_g[df_test_g['index']>2]"
   ]
  },
  {
   "cell_type": "code",
   "execution_count": null,
   "id": "cbecafd1",
   "metadata": {},
   "outputs": [],
   "source": [
    "def dfAllDays(df):\n",
    "    date_min = df['action_date'].min().tzinfo.localize(pd.to_datetime(20180101, format='%Y%m%d'))\n",
    "    day_max = int(toDays(df['action_date'].max() - date_min)) + 1 # In days\n",
    "    range_days = range(0, day_max)\n",
    "    return pd.DataFrame(range_days, range_days, columns =['days']) \n",
    "    \n",
    "    \n",
    "    \n",
    "def stageInDays(stage_action_name, df, show_scatter = True, up_date_treshold = 730, applicants = False):\n",
    "    stage_date = df[df['stage_name'] == stage_action_name].groupby(['id_applicant'])['action_date'].max().reset_index()\n",
    "    stage_date = df.loc[df['action_date'].isin(stage_date['action_date']), ['id_applicant','action_date','action_time']]\n",
    "    stage_date = stage_date.rename(columns={\"action_date\": 'max_date'})\n",
    "    stage_date = pd.merge(stage_date,df[df['stage_name'] == stage_action_name].groupby(['id_applicant'])['action_date'].min().reset_index(), how = 'left', on=\"id_applicant\")\n",
    "    stage_date = stage_date.rename(columns={\"action_date\": 'min_date'})\n",
    "\n",
    "    date = stage_date['min_date'].min().tzinfo.localize(pd.to_datetime(20180101, format='%Y%m%d'))\n",
    "#     date_20 = stage_date['min_date'].min().tzinfo.localize(pd.to_datetime(20200101, format='%Y%m%d'))\n",
    "#     print(toDays(date_20 - date))# - toDays(stage_date['min_date'].min() - date))\n",
    "    \n",
    "    stage_date['stage_time_min'] = (toDays(stage_date['min_date'] - date)).astype(int) # In days\n",
    "    stage_date['stage_time_max'] = (toDays(stage_date['max_date'] - date)).astype(int) # In days\n",
    "#     stage_date.sort_values(by=['stage_time_min'], ascending=[False])\n",
    "\n",
    "    applicant_days = dfAllDays(df)\n",
    "    applicant_days['applicants'] = 0\n",
    "    for cur_date in applicant_days['days']:\n",
    "        applicant_days.loc[cur_date,'applicants'] = len(stage_date[(stage_date['stage_time_max']>= cur_date)&(stage_date['stage_time_min']<= cur_date)])\n",
    "        \n",
    "    applicant_days = applicant_days[applicant_days['days'] < up_date_treshold]\n",
    "    \n",
    "    stage_date = pd.merge(stage_date, applicant_days.rename(columns={\"days\": 'stage_time_min'}), how = 'left', on=\"stage_time_min\")\n",
    "    if show_scatter:\n",
    "        plt.subplots(figsize=(15,10))\n",
    "        plt.scatter(applicant_days['days'], applicant_days['applicants'], linewidth=1, label=\"original\",s=5)\n",
    "        plt.title(\"Стадия \"+ stage_action_name)\n",
    "        plt.xlabel('Дни с начала 2018 года')\n",
    "        plt.ylabel('Количество аппликантов на стадии')\n",
    "        plt.grid(True)\n",
    "        plt.show()\n",
    "    if applicants:\n",
    "        return applicant_days\n",
    "    else:\n",
    "        return stage_date"
   ]
  },
  {
   "cell_type": "code",
   "execution_count": null,
   "id": "79608985",
   "metadata": {},
   "outputs": [],
   "source": [
    "# График качества длинны обратотки аппликантов\n",
    "\n",
    "long_stages = ['Оформление', 'СБ', 'Назначение времени на оформление/медосмотр', 'Интервью с руководителем']\n",
    "# for stage in long_stages:\n",
    "#     stageInDays(stage, df_norm, True, 9999)\n",
    "df_long_stages = dfAllDays(df_norm)\n",
    "\n",
    "plt.subplots(figsize=(15,10))\n",
    "for stage in long_stages:\n",
    "    df_long_stage = stageInDays(stage, df_norm, False, 9999, True)\n",
    "    df_long_stages = pd.merge(df_long_stages, df_long_stage, how = 'left', on=\"days\") \n",
    "    new_col_name = stage+ ' аппликатнов'\n",
    "    df_long_stages =  df_long_stages.rename(columns={\"applicants\": new_col_name})\n",
    "    plt.plot(df_long_stages['days'], df_long_stages[new_col_name], label=\"Стадия \" + stage, linewidth=0.5)\n",
    "#     ,s=1, linewidth=1\n",
    "    \n",
    "plt.title(\"Аппликанты по наидольшим стадиям\")\n",
    "plt.xlabel('Дни с начала 2018 года')\n",
    "plt.ylabel('Количество аппликантов на стадии')\n",
    "plt.legend(loc='best',fancybox=True, shadow=True)\n",
    "plt.grid(True)\n",
    "plt.show() \n",
    "# df_long_stages.to_excel('LONG_STAGES.xlsx')\n",
    "# df_long_stages"
   ]
  },
  {
   "cell_type": "code",
   "execution_count": null,
   "id": "bfda70c8",
   "metadata": {},
   "outputs": [],
   "source": [
    "# Таблица по графику отсортированные по дням\n",
    "df_long_stages.sort_values(by =['days'])"
   ]
  },
  {
   "cell_type": "code",
   "execution_count": null,
   "id": "a8aacd7d",
   "metadata": {},
   "outputs": [],
   "source": [
    "# Такой же график, но по среднему\n",
    "\n",
    "mask = np.isin(df_long_stages.columns, ['days'], invert = True)\n",
    "df_long_stages_col = df_long_stages.columns[mask]\n",
    "df_long_stages[df_long_stages_col] = df_long_stages[df_long_stages_col].ewm(com=3.5).mean()\n",
    "\n",
    "plt.subplots(figsize=(15,10))\n",
    "for stage in long_stages:\n",
    "    new_col_name = stage + ' аппликатнов'\n",
    "    df_long_stages =  df_long_stages.rename(columns={\"applicants\": new_col_name})\n",
    "    plt.plot(df_long_stages['days'], df_long_stages[new_col_name], label=\"Стадия \" + stage, linewidth=0.5)\n",
    "#     ,s=1, linewidth=1\n",
    "    \n",
    "plt.title(\"Аппликанты по наидольшим стадиям (Среднее по неделе)\")\n",
    "plt.xlabel('Дни с начала 2018 года')\n",
    "plt.ylabel('Количество аппликантов на стадии')\n",
    "plt.legend(loc='best',fancybox=True, shadow=True)\n",
    "plt.grid(True)\n",
    "plt.show() \n",
    "\n",
    "# df_long_stages.to_excel('LONG_STAGES_MEAN(week).xlsx')"
   ]
  },
  {
   "cell_type": "code",
   "execution_count": null,
   "id": "925baf90",
   "metadata": {},
   "outputs": [],
   "source": [
    "# Такая же таблица по графику\n",
    "df_long_stages.sort_values(by =['days'])"
   ]
  },
  {
   "cell_type": "code",
   "execution_count": null,
   "id": "4802130f",
   "metadata": {},
   "outputs": [],
   "source": [
    "date_min = df_norm['action_date'].min().tzinfo.localize(pd.to_datetime(20180101, format='%Y%m%d'))\n",
    "df_norm['days'] = (toDays(df_norm['action_date'] - date_min)).astype(int)  \n",
    "df_norm = pd.merge(df_norm, df_long_stages, how = 'left', on=\"days\")\n",
    "# df_fits.sort_values(by =['days'])\n",
    "\n",
    "\n",
    "def addTimeToDF(df, column_name, result_name, new_res_name, temp):\n",
    "    temp = df[df[column_name]==result_name]\n",
    "    temp = temp.dropna(subset=['action_time']).groupby(['id_applicant'])['action_time'].sum().reset_index()\n",
    "    temp = temp.rename(columns={\"action_time\": new_res_name})\n",
    "    df = pd.merge(df, temp, how = 'left', on=\"id_applicant\")\n",
    "    df.fillna(value = {new_res_name:0}, inplace = True)\n",
    "    return df\n",
    "def dfMeanTime(df, column_name, result, result_new_name):\n",
    "    df_mean = df[df[column_name]==result].groupby(['id_applicant'])['action_time'].mean().reset_index()\n",
    "    df_mean = df_mean.rename(columns={\"action_time\": result_new_name})\n",
    "    return df_mean\n",
    "def dfRepitable(df, column_name, result_name, new_result_name):\n",
    "    temp_df = df_norm[df_norm[column_name]==result_name].groupby(['id_applicant', 'activity_name', 'stage_name'])['action_date'].count().reset_index()\n",
    "    temp_df = temp_df.rename(columns={\"action_date\": \"amount\"})\n",
    "    temp_df = temp_df[temp_df['amount']>1]\n",
    "    df = pd.merge(df, temp_df.groupby(['id_applicant'])['amount'].sum(), how = 'left', on=\"id_applicant\")\n",
    "    df = df.rename(columns={\"amount\": \"amount_over_2calls\"})\n",
    "    df = pd.merge(df, temp_df.groupby(['id_applicant'])['amount'].count(), how = 'left', on=\"id_applicant\")\n",
    "    df = df.rename(columns={\"amount\": \"count_over_2calls\"})\n",
    "    df['mean_over_2calls'] = df['amount_over_2calls'] / df['count_over_2calls'] - 1\n",
    "    df[df['mean_over_2calls'] == -1] = 0\n",
    "    df = df.drop(['amount_over_2calls', 'count_over_2calls'] , axis=1)\n",
    "    df = df.rename(columns={\"mean_over_2calls\": new_result_name})\n",
    "    return df\n",
    "\n",
    "\n",
    "# Нормализация\n",
    "fits_min =  df_norm[df_norm['result_name'] == 'Принят'].groupby(['id_applicant'])['action_date'].min().reset_index()\n",
    "\n",
    "\n",
    "\n",
    "\n",
    "# Был ли чел в резерве\n",
    "temp_df = df[df['stage_name']=='Резерв'].id_partner.unique()\n",
    "df_reg = df_tth_norm.reset_index(drop=True)\n",
    "# df_reg['Reserv'] = 0\n",
    "# df_reg.loc[df_reg['id_partner'].isin(temp_df), 'Reserv']= 1\n",
    "\n",
    "# Сезонность? (В какой месяц?) - 11 бинарных переменных\n",
    "df_reg = pd.merge(df_reg, fits_min[['id_applicant','action_date']], how = 'left', on=\"id_applicant\")\n",
    "df_reg['month_start'] = df_reg['action_date'].dt.month\n",
    "# df_reg['year_start'] = df_reg['action_date'].dt.year - 2018\n",
    "df_reg = df_reg.drop(['action_date'] , axis=1)\n",
    "\n",
    "temp_df = pd.get_dummies(df_reg[\"month_start\"]).rename(columns=lambda x: 'month '+str(int(x)))\n",
    "# temp_df = pd.concat((pd.get_dummies(df_reg[\"year_start\"]).rename(columns=lambda x: 'year '+str(int(x))),temp_df), axis=1)\n",
    "df_reg =  pd.concat((temp_df, df_reg), axis=1)\n",
    "df_reg = df_reg.drop(['month_start'] , axis=1)\n",
    "# df_reg = df_reg.drop(['year_start'] , axis=1)\n",
    "\n",
    "# Департаменты? (количество нанятых в департаменте)\n",
    "# df_reg = pd.merge(df_reg, df_tth_dep[['department_id','applicants']], how = 'left', on=\"department_id\")\n",
    "# df_reg = df_reg.rename(columns={\"applicants\": \"dep_applicants\"})\n",
    "\n",
    "# Узнать результаты интервью с руководителем (Время) / Нет обратной связи (От руководителя) - ожидание\n",
    "#  Узнать результаты интервью с руководителем\n",
    "# df_reg = addTimeToDF(df_reg, 'activity_name','Узнать результаты интервью с руководителем', \"interview_result_time\", temp_df)\n",
    "#  Нет обратной связи от руководителя\n",
    "# df_reg = addTimeToDF(df_reg, 'result_name','Нет обратной связи от руководителя', \"no_interview_info_time\", temp_df)\n",
    "#  Узнать результаты интервью с руководителем\n",
    "# df_reg = addTimeToDF(df_reg, 'stage_name','Оформление', \"oform_time\", temp_df)\n",
    "\n",
    "# Источник Яндекс цифра\n",
    "df_reg['yandex_source'] = 0\n",
    "# yandex_source id_applicants\n",
    "temp_df = df.loc[df['result_name']=='Источник Яндекс Цифра', 'id_applicant'].unique() \n",
    "df_reg.loc[df_reg['id_applicant'].isin(temp_df), 'yandex_source'] = 1\n",
    "\n",
    "# Сколько раз повторяются этапы на стадии (activity + stage name)\n",
    "df_reg = dfRepitable(df_reg,'stage_name','Интервью с руководителем', 'Интервью недозвоны' )\n",
    "df_reg = dfRepitable(df_reg,'stage_name','Оформление', 'Оформление недозвоны' )\n",
    "df_reg = dfRepitable(df_reg,'stage_name','СБ', 'СБ недозвоны' )\n",
    "df_reg = dfRepitable(df_reg,'stage_name','Назначение времени на оформление/медосмотр', 'Медосмотр недозвоны' )\n",
    "df_reg = dfRepitable(df_reg,'stage_name','Обработка', 'Обработка недозвоны' )\n",
    "# temp_df = df_norm[df_norm['stage_name']=='Интервью с руководителем'].groupby(['id_applicant', 'activity_name', 'stage_name'])['action_date'].count().reset_index()\n",
    "# temp_df = temp_df.rename(columns={\"action_date\": \"amount\"})\n",
    "# temp_df = temp_df[temp_df['amount']>1]\n",
    "# df_reg = pd.merge(df_reg, temp_df.groupby(['id_applicant'])['amount'].sum(), how = 'left', on=\"id_applicant\")\n",
    "# df_reg = df_reg.rename(columns={\"amount\": \"amount_over_2calls\"})\n",
    "# df_reg = pd.merge(df_reg, temp_df.groupby(['id_applicant'])['amount'].count(), how = 'left', on=\"id_applicant\")\n",
    "# df_reg = df_reg.rename(columns={\"amount\": \"count_over_2calls\"})\n",
    "# df_reg['mean_over_2calls'] = df_reg['amount_over_2calls'] / df_reg['count_over_2calls'] - 1\n",
    "# df_reg[df_reg['mean_over_2calls'] == -1] = 0\n",
    "# df_reg = df_reg.drop(['amount_over_2calls', 'count_over_2calls'] , axis=1)\n",
    "\n",
    "\n",
    "# Количество стадий\n",
    "# temp_df = df_norm.groupby(['id_applicant', 'stage_name'])['action_date'].count().reset_index()\n",
    "# temp_df = temp_df.groupby(['id_applicant']).agg({'action_date': ['sum','count']}).reset_index()\n",
    "# temp_df.columns = temp_df.columns.droplevel(1)\n",
    "# temp_df.columns.values[1] = \"steps_amount\"\n",
    "# temp_df.columns.values[2] = \"stages_amount\"\n",
    "# df_reg = pd.merge(df_reg, temp_df, how = 'left', on=\"id_applicant\")\n",
    "\n",
    "# Количество аппликантов в среднем за неделю\n",
    "df_reg = pd.merge(df_reg, df_norm.groupby(['id_applicant'])[df_long_stages_col].mean().reset_index(), how = 'left', on=\"id_applicant\")\n",
    "df_reg = pd.merge(df_reg, dfMeanTime(df_norm, 'stage_name','СБ', \"СБ (время)\" ), how = 'left', on=\"id_applicant\")\n",
    "df_reg = pd.merge(df_reg, dfMeanTime(df_norm, 'stage_name','Интервью с руководителем', \"Интервью с руководителем (время)\" ), how = 'left', on=\"id_applicant\")\n",
    "# df_reg = pd.merge(df_reg, dfMeanTime(df_norm, 'stage_name','Оформление', \"Оформление (время)\" ), how = 'left', on=\"id_applicant\")\n",
    "\n",
    "# df_reg['Оформление'] = df_reg['Оформление аппликатнов']*df_reg['Оформление (время)']\n",
    "# df_reg['СБ (на стадии/всего)'] = df_reg['СБ аппликатнов'] / len(df_reg[df_reg['СБ (время)']>0])\n",
    "df_reg['СБ (время/среднее)'] = df_reg['СБ (время)'] / df_reg['СБ (время)'].mean()\n",
    "# df_reg['СБ метрика'] = df_reg['СБ (на стадии/всего)'] * df_reg['СБ (время/среднее)']\n",
    "\n",
    "df_reg['Интервью с руководителем аппликатнов (на стадии/всего)'] = df_reg['Интервью с руководителем аппликатнов'] / len(df_reg[df_reg['Интервью с руководителем (время)']>0])\n",
    "df_reg['Интервью с руководителем (время/среднее)'] = df_reg['Интервью с руководителем (время)'] / df_reg['Интервью с руководителем (время)'].mean()\n",
    "# df_reg['Интервью с руководителем метрика'] = df_reg['Интервью с руководителем аппликатнов (на стадии/всего)'] * df_reg['Интервью с руководителем (время/среднее)'] \n",
    "\n",
    "# df_reg['Интервью с руководителем'] = df_reg['Интервью с руководителем аппликатнов']*df_reg['Интервью с руководителем (время)']\n",
    "# df_reg = df_reg.drop(['Оформление аппликатнов', 'Оформление (время)'] , axis=1)\n",
    "df_reg = df_reg.drop(['Интервью с руководителем (время)'] , axis=1)\n",
    "df_reg = df_reg.drop(['СБ (время)'] , axis=1)\n",
    "# df_reg = df_reg.drop(['СБ (на стадии/всего)', 'СБ (время/среднее)'] , axis=1)\n",
    "\n",
    "# df_reg = df_reg.drop(['Интервью с руководителем аппликатнов (на стадии/всего)', 'Интервью с руководителем (время/среднее)'] , axis=1)\n",
    "df_reg = df_reg.drop(['Интервью с руководителем аппликатнов (на стадии/всего)'] , axis=1)\n",
    "df_reg = df_reg.drop(['Интервью с руководителем аппликатнов', 'СБ аппликатнов', 'Назначение времени на оформление/медосмотр аппликатнов', 'Оформление аппликатнов'] , axis=1)\n",
    "\n",
    "# Время по стадиям\n",
    "# stages = ['Обработка', 'Интервью с руководителем']\n",
    "# for stage in stages:\n",
    "# # for stage in long_stages:\n",
    "#     mean_stage = df_norm[df_norm['stage_name']==stage].dropna(subset=['action_time'])['action_time'].mean()\n",
    "# #     print(mean_stage)\n",
    "#     df_stage_mean = df_norm[df_norm['stage_name']==stage].dropna(subset=['action_time']).groupby(['id_applicant'])['action_time'].mean().reset_index()\n",
    "#     df_stage_mean['action_time'] = df_stage_mean['action_time'] / mean_stage\n",
    "#     df_stage_mean = df_stage_mean.rename(columns = {'action_time':stage + ' % от среднего'})\n",
    "#     df_reg = pd.merge(df_reg, df_stage_mean, how = 'left', on=\"id_applicant\")\n",
    "# stage = 'Провести первичную обработку'\n",
    "# stage = 'Обработка'\n",
    "# mean_stage = df_norm[df_norm['stage_name']==stage].dropna(subset=['action_time'])['action_time'].mean()\n",
    "# df_stage_mean = df_norm[df_norm['stage_name']==stage].dropna(subset=['action_time']).groupby(['id_applicant'])['action_time'].mean().reset_index()\n",
    "# df_stage_mean['action_time'] = df_stage_mean['action_time'] / mean_stage\n",
    "# df_stage_mean = df_stage_mean.rename(columns = {'action_time':stage + ' % от среднего'})\n",
    "# df_reg = pd.merge(df_reg, df_stage_mean, how = 'left', on=\"id_applicant\")\n",
    "\n",
    "# temp_df\n",
    "print(df_reg.isna().sum())\n",
    "df_reg = df_reg.fillna(0)\n",
    "df_reg"
   ]
  },
  {
   "cell_type": "code",
   "execution_count": null,
   "id": "64567802",
   "metadata": {},
   "outputs": [],
   "source": [
    "temp_df = df_norm.groupby(['id_applicant', 'activity_name', 'stage_name'])['action_date'].count().reset_index()\n",
    "temp_df = temp_df.rename(columns={\"action_date\": \"amount\"})\n",
    "temp_df = temp_df[temp_df['amount']>1]\n",
    "temp_df.groupby('stage_name').sum()\n",
    "# temp_df[temp_df['stage_name'] == 'Обработка'].groupby('activity_name').count()"
   ]
  },
  {
   "cell_type": "code",
   "execution_count": null,
   "id": "8018b407",
   "metadata": {},
   "outputs": [],
   "source": [
    "def lm(df_reg, yColumn, xColumns_del = [], scaler = preprocessing.StandardScaler()):\n",
    "    \n",
    "    xColumn = df_reg.columns\n",
    "    yColumn = yColumn\n",
    "    xColumns_del.append(yColumn)\n",
    "    mask = np.isin(xColumn, xColumns_del, invert = True)\n",
    "    xColumn = xColumn[mask]\n",
    "    \n",
    "    df_reg2 = df_reg.loc[:, df_reg.columns != yColumn]\n",
    "    df_reg.loc[:, df_reg.columns != yColumn] = pd.DataFrame(scaler.fit_transform(df_reg2), columns=df_reg2.columns, index = df_reg2.index.values)\n",
    "        \n",
    "    lr = LinearRegression()\n",
    "\n",
    "    X_c = sm.add_constant(df_reg[xColumn])\n",
    "\n",
    "    model = sm.OLS(df_reg[yColumn],X_c)\n",
    "    fitted_model = model.fit()\n",
    "    \n",
    "    return fitted_model, xColumn, fitted_model.predict(X_c)\n",
    "\n",
    "def vizScatTTHPred(df, predicted, xColumns, yColumn):\n",
    "    xy = math.ceil(math.sqrt(len(xColumns)))\n",
    "    if xy <2:\n",
    "        xy = 2\n",
    "    fig, axs = plt.subplots(xy, xy, figsize=(13,13))\n",
    "    i = 0\n",
    "    for column in xColumns:\n",
    "        x, y =divmod(i, xy)    \n",
    "        axs[x,y].set_ylabel(\"TTH\")\n",
    "        axs[x,y].set_xlabel(column)\n",
    "        axs[x,y].scatter(df[column], df[yColumn],s=3, label=\"original\")\n",
    "        axs[x,y].scatter(df[column], predicted,s=3, label=\"predicted\")\n",
    "        i += 1\n",
    "    plt.show()\n",
    "    \n",
    "def vizResTTHPred(df, predicted, xColumns, yColumn):\n",
    "    xy = math.ceil(math.sqrt(len(xColumns)))\n",
    "    if xy <2:\n",
    "        xy = 2\n",
    "    fig, axs = plt.subplots(xy, xy, figsize=(13,13))\n",
    "    i = 0\n",
    "    df.loc[:, 'res'] = df[yColumn] - predicted\n",
    "    for column in xColumns:\n",
    "        x, y =divmod(i, xy)    \n",
    "        axs[x,y].set_ylabel(\"TTH остатки\")\n",
    "        axs[x,y].set_xlabel(column)\n",
    "        axs[x,y].scatter(df[column],df['res'],s=3)\n",
    "        i += 1\n",
    "    plt.show()\n",
    "\n",
    "    \n",
    "yColumn = \"TTH\"\n",
    "fitted_model, xColumn, predicted = lm(df_reg,yColumn,['id_partner', 'department_id', 'id_applicant', 'TTH', 'year 2', 'month 12', 'yandex_source'])\n",
    "fitted_model.summary()"
   ]
  },
  {
   "cell_type": "code",
   "execution_count": null,
   "id": "f4fc0b32",
   "metadata": {},
   "outputs": [],
   "source": [
    "# xy = 3\n",
    "not_column = []\n",
    "for column in xColumn:\n",
    "    if 'month' in column:\n",
    "        not_column.append(column)\n",
    "not_column.append('Reserv')\n",
    "mask = np.isin(xColumn, not_column, invert = True)\n",
    "viz_column = xColumn[mask]\n",
    "\n",
    "vizScatTTHPred(df_reg, predicted, viz_column, yColumn)\n",
    "vizResTTHPred(df_reg,predicted,viz_column,yColumn)"
   ]
  },
  {
   "cell_type": "code",
   "execution_count": null,
   "id": "08918eff",
   "metadata": {},
   "outputs": [],
   "source": [
    "# Названия графиков\n",
    "df_reg[viz_column].columns"
   ]
  },
  {
   "cell_type": "code",
   "execution_count": null,
   "id": "9a201d02",
   "metadata": {},
   "outputs": [],
   "source": [
    "classifiers = [\n",
    "    linear_model.BayesianRidge(),\n",
    "    linear_model.ARDRegression(),\n",
    "    linear_model.PassiveAggressiveRegressor(),\n",
    "    linear_model.TheilSenRegressor(),\n",
    "    linear_model.LinearRegression()]\n",
    "\n",
    "# for classifier in classifiers:\n",
    "#     classifier.fit(X_train, Y_train)\n",
    "#     Y_pred = classifier.predict(X_test)\n",
    "#     print(metrics.r2_score(Y_test, Y_pred))\n",
    "\n",
    "\n",
    "classifier = linear_model.ARDRegression()\n",
    "reg_results = classifier.fit(X_train, Y_train)\n",
    "reg_coef = pd.DataFrame(data=classifier.coef_, index = xColumn)\n",
    "reg_coef.sort_values(by=[0], ascending=[False], inplace = True)\n",
    "print(reg_coef)"
   ]
  },
  {
   "cell_type": "code",
   "execution_count": null,
   "id": "3d7c9481",
   "metadata": {},
   "outputs": [],
   "source": [
    "# x_ax = range(len(Y_test))\n",
    "# X_test_c = sm.add_constant(X_test)\n",
    "# Y_pred = fitted_model.predict(X_test_c)\n",
    "# plt.subplots(figsize=(13,13))\n",
    "# plt.scatter(x_ax, Y_test, linewidth=1, label=\"original\",s=5)\n",
    "# plt.scatter(x_ax, Y_pred, linewidth=1.1, label=\"predicted\",s=5)\n",
    "# plt.title(\"y-test and y-predicted data\")\n",
    "# plt.xlabel('X-axis')\n",
    "# plt.ylabel('Y-axis')\n",
    "# plt.legend(loc='best',fancybox=True, shadow=True)\n",
    "# plt.grid(True)\n",
    "# plt.show() "
   ]
  },
  {
   "cell_type": "code",
   "execution_count": null,
   "id": "2837297a",
   "metadata": {},
   "outputs": [],
   "source": [
    "import seaborn as sns\n",
    "plt.subplots(figsize=(10,10))\n",
    "sns.heatmap(df_reg[np.append(xColumn,yColumn)].corr(),annot=True,linewidths = 1)\n",
    "plt.show()"
   ]
  },
  {
   "cell_type": "code",
   "execution_count": null,
   "id": "57fcd7b8",
   "metadata": {},
   "outputs": [],
   "source": [
    "df_tth"
   ]
  },
  {
   "cell_type": "code",
   "execution_count": null,
   "id": "3903e767",
   "metadata": {},
   "outputs": [],
   "source": [
    "# ХЗ что это\n",
    "stages_g =  df_norm.dropna(subset=['action_time']).groupby(['stage_name'])['action_time'].describe() # ['stage_name', 'activity_name']\n",
    "stages_g['sum'] = stages_g['mean'] * stages_g['count']\n",
    "stages_g"
   ]
  },
  {
   "cell_type": "code",
   "execution_count": null,
   "id": "cd16334e",
   "metadata": {},
   "outputs": [],
   "source": [
    "# Хз что это\n",
    "date = df_norm['action_date'].min().tzinfo.localize(pd.to_datetime(20200101, format='%Y%m%d'))\n",
    "df_norm[df_norm['action_date']>date].groupby('stage_name')['action_time'].sum()"
   ]
  },
  {
   "cell_type": "code",
   "execution_count": null,
   "id": "2781cca6",
   "metadata": {},
   "outputs": [],
   "source": [
    "# Среднее время обработки аппликатов по времени\n",
    "stage_pie_mask = stages_g['sum'] > 2200\n",
    "stage_sum =stages_g[stage_pie_mask]['sum'].sum()\n",
    "stage_sum\n",
    "\n",
    "y = stages_g[stage_pie_mask]['sum'] / stage_sum\n",
    "mylabels = stages_g[stage_pie_mask].index\n",
    "\n",
    "plt.subplots(1, 1,figsize=(15,10))\n",
    "plt.pie(y, labels = mylabels)\n",
    "plt.show() "
   ]
  },
  {
   "cell_type": "code",
   "execution_count": null,
   "id": "5b4f9902",
   "metadata": {},
   "outputs": [],
   "source": [
    "# df_stage_activ = df_fits.dropna(subset=['action_time']).groupby(['stage_name', 'activity_name']).describe().reset_index\n",
    "# df_stage_activ[]\n",
    "\n",
    "# df_stage_result = df_fits.dropna(subset=['action_time']).groupby(['stage_name', 'result_name']).count().reset_index()\n",
    "# df_stage_result[df_stage_result['stage_name']=='Оформление']"
   ]
  },
  {
   "cell_type": "code",
   "execution_count": null,
   "id": "85727576",
   "metadata": {},
   "outputs": [],
   "source": [
    "reserved_applicants = df.loc[df['result_name']==\"Кадровый резерв\", 'id_applicant'].unique()\n",
    "reserved_applicants= np.append(reserved_applicants, df.loc[df['stage_name']==\"Кадровый резерв\", 'id_applicant'].unique())\n",
    "reserved_applicants = np.append(reserved_applicants, df.loc[df['stage_name']==\"Резерв\", 'id_applicant'].unique())\n",
    "reserved_applicants = np.unique(reserved_applicants)\n",
    "\n",
    "\n",
    "sb_c = 1\n",
    "int_c = 1\n",
    "df_sb_int = df_fits[(df_fits['id_applicant'].isin(reserved_applicants))& ((df_fits['stage_name']=='СБ') | (df_fits['stage_name']=='Интервью с руководителем'))]\n",
    "df_sb_int = df_sb_int.groupby(['id_applicant', 'stage_name'])['action_time'].sum().reset_index()\n",
    "df_sb_int = pd.merge(df_sb_int[df_sb_int['stage_name'] == 'Интервью с руководителем'], df_sb_int[df_sb_int['stage_name'] == 'СБ'], how = 'outer', on=\"id_applicant\")\n",
    "df_sb_int['action_time_x(short)'] = df_sb_int['action_time_x']\n",
    "df_sb_int.loc[(df_sb_int['action_time_x(short)']>sb_c), 'action_time_x(short)'] = sb_c\n",
    "df_sb_int['action_time_y(short)'] = df_sb_int['action_time_y']\n",
    "df_sb_int.loc[df_sb_int['action_time_y(short)']>int_c, 'action_time_y(short)'] = int_c\n",
    "df_sb_int.rename(columns = {'action_time_x':'interview_time', 'action_time_x(short)':'interview_time(short)','action_time_y':'sb_time', 'action_time_y(short)':'sb_time(short)'}, inplace = True)\n",
    "df_sb_int = df_sb_int.drop(['stage_name_x','stage_name_y'] , axis=1)\n",
    "# df_sb_int.to_excel('reserved.xlsx')\n",
    "\n",
    "\n",
    "# nedozvon = df_fits[['id_applicant','action_date', 'action_time']][(df_fits['result_name'] == 'Недозвон')]\n",
    "# nedozvon['action_date'] = nedozvon['action_date'].dt.tz_localize(None)\n",
    "# nedozvon.to_excel('Nedozvon.xlsx')\n",
    "sum_time_med_c = 3\n",
    "sum_time_medN_c = 3\n",
    "sum_time_res_c = 3\n",
    "df_med = df_fits[(df_fits['activity_name'] == 'Назначить время на оформление/медосмотр')].groupby(['activity_name', 'id_applicant']).agg({'action_time': ['sum','count']}).reset_index()\n",
    "df_med.columns = df_med.columns.droplevel(1)\n",
    "df_med = df_med.drop('activity_name', axis=1)\n",
    "df_med.columns.values[1] = \"sum_time_med\"\n",
    "df_med.columns.values[2] = \"count_time_med\"\n",
    "print(len(df_med))\n",
    "df_med2 = df_fits[(df_fits['activity_name'] == 'Назначить время на оформление/медосмотр (недозвон)')].groupby(['activity_name', 'id_applicant']).agg({'action_time': ['sum','count']}).reset_index()\n",
    "df_med2.columns = df_med2.columns.droplevel(1)\n",
    "df_med2 = df_med2.drop('activity_name', axis=1)\n",
    "df_med2.columns.values[1] = \"sum_time_medN\"\n",
    "df_med2.columns.values[2] = \"count_time_medN\"\n",
    "print(len(df_med2))\n",
    "df_med =  pd.merge(df_med, df_med2, how = 'outer', on=\"id_applicant\")\n",
    "df_med2 = df_fits.dropna(subset=['action_time'])[(df_fits['activity_name'] == 'Узнать результаты приема')].groupby(['activity_name', 'id_applicant']).agg({'action_time': ['sum','count']}).reset_index()\n",
    "df_med2.columns = df_med2.columns.droplevel(1)\n",
    "df_med2 = df_med2.drop('activity_name', axis=1)\n",
    "df_med2.columns.values[1] = \"sum_time_res\"\n",
    "df_med2.columns.values[2] = \"count_time_res\"\n",
    "print(len(df_med2))\n",
    "df_med =  pd.merge(df_med, df_med2, how = 'outer', on=\"id_applicant\")\n",
    "df_med['sum_time_med(short)'] = df_med['sum_time_med']\n",
    "df_med.loc[(df_med['sum_time_med(short)']>sum_time_med_c), 'sum_time_med(short)'] = sum_time_med_c\n",
    "df_med['sum_time_medN(short)'] = df_med['sum_time_medN']\n",
    "df_med.loc[df_med['sum_time_medN(short)']>sum_time_medN_c, 'sum_time_medN(short)'] = sum_time_medN_c\n",
    "df_med['sum_time_res(short)'] = df_med['sum_time_res']\n",
    "df_med.loc[df_med['sum_time_res(short)']>sum_time_res_c, 'sum_time_res(short)'] = sum_time_res_c\n",
    "# df_med.to_excel('med_time.xlsx')"
   ]
  },
  {
   "cell_type": "code",
   "execution_count": null,
   "id": "1e45cdd6",
   "metadata": {},
   "outputs": [],
   "source": [
    "# По результатам\n",
    "results_g =  df_fits.dropna(subset=['action_time']).groupby(['result_name'])['action_time'].describe()\n",
    "results_g"
   ]
  },
  {
   "cell_type": "code",
   "execution_count": null,
   "id": "f31fe72c",
   "metadata": {},
   "outputs": [],
   "source": [
    "# По активностям\n",
    "activities_g =  df_fits.dropna(subset=['action_time']).groupby(['activity_name'])['action_time'].describe()\n",
    "activities_g"
   ]
  },
  {
   "cell_type": "code",
   "execution_count": null,
   "id": "74a09072",
   "metadata": {},
   "outputs": [],
   "source": [
    "# Статистика TTH по департаментам\n",
    "df_new_tth = df_tth.reset_index(drop = True)\n",
    "# df_med\n",
    "df_new_tth = pd.merge(df_new_tth, df_med, how = 'left', on=\"id_applicant\")\n",
    "df_new_tth.fillna(0, inplace = True)\n",
    "df_new_tth['TTH'] = df_new_tth['TTH'] - (df_new_tth['sum_time_med'] - df_new_tth['sum_time_med(short)'] + df_new_tth['sum_time_medN'] - df_new_tth['sum_time_medN(short)'] + df_new_tth['sum_time_res'] - df_new_tth['sum_time_res(short)'])\n",
    "df_new_tth = df_new_tth[['id_applicant','TTH']] \n",
    "\n",
    "# df_sb_int\n",
    "df_new_tth = pd.merge(df_new_tth, df_sb_int, how = 'left', on=\"id_applicant\")\n",
    "df_new_tth.fillna(0, inplace = True)\n",
    "df_new_tth['TTH'] = df_new_tth['TTH'] - (df_new_tth['sb_time'] - df_new_tth['sb_time(short)'] + df_new_tth['interview_time'] - df_new_tth['interview_time(short)'])\n",
    "df_new_tth = df_new_tth[['id_applicant','TTH']] \n",
    "\n",
    "\n",
    "# df_new_tth.to_excel('TTH_NEW.xlsx')\n",
    "df_tth_new_dep =  df_fits.dropna(subset=['action_time']).groupby(['id_applicant', 'department_id'])['action_time'].count().reset_index()\n",
    "df_tth_new_dep = df_tth_new_dep.join(df_new_tth.set_index('id_applicant'), on='id_applicant')\n",
    "df_tth_new_dep = df_tth_new_dep.groupby(['department_id'])['TTH'].median().reset_index()\n",
    "df_tth_new_dep.to_excel('TTH_DEP_NEW.xlsx')\n",
    "df_tth_new_dep.describe()\n"
   ]
  },
  {
   "cell_type": "code",
   "execution_count": null,
   "id": "f010ad8a",
   "metadata": {},
   "outputs": [],
   "source": [
    "# Квантиль THH (без выбросов)\n",
    "quantile_dep = df_tth_dep['TTH_median'].quantile(.999)\n",
    "quantile_dep"
   ]
  },
  {
   "cell_type": "code",
   "execution_count": null,
   "id": "d977ac58",
   "metadata": {},
   "outputs": [],
   "source": [
    "fig, ax = plt.subplots(1, 1,figsize=(15,10))\n",
    "bins = 100\n",
    "ax.hist(df_tth_dep['TTH_median'][(df_tth_dep['TTH_median']>quantile_dep)],bins=bins)\n",
    "SetTTHLabels('Департаменты (0.1 процент департаментов)')\n",
    "plt.show()"
   ]
  },
  {
   "cell_type": "code",
   "execution_count": null,
   "id": "ad0cbf96",
   "metadata": {},
   "outputs": [],
   "source": [
    "fig, ax = plt.subplots(1, 1,figsize=(15,10))\n",
    "bins = 100\n",
    "ax.hist(df_tth_dep['TTH_median'][(df_tth_dep['TTH_median']<=quantile_dep)],bins=bins)\n",
    "SetTTHLabels('Департаменты (99.9 процентов департаментов)')\n",
    "plt.show()"
   ]
  },
  {
   "cell_type": "code",
   "execution_count": null,
   "id": "36d6db3a",
   "metadata": {},
   "outputs": [],
   "source": [
    "fig, ax = plt.subplots(1, 1,figsize=(15,10))\n",
    "bins = 20\n",
    "ax.hist(df_tth['TTH'][(df_tth['TTH']<=1)],bins=bins)\n",
    "SetTTHLabels('Кандидаты, обработанные до одного дня')\n",
    "plt.show()"
   ]
  },
  {
   "cell_type": "code",
   "execution_count": null,
   "id": "b4ef4c98",
   "metadata": {},
   "outputs": [],
   "source": [
    "# df_tth[(df_tth['TTH']<0.0001)]\n",
    "quantile_tth = df_tth['TTH'].quantile(.99)\n",
    "quantile_tth"
   ]
  },
  {
   "cell_type": "code",
   "execution_count": null,
   "id": "73927404",
   "metadata": {},
   "outputs": [],
   "source": [
    "fig, ax = plt.subplots(1, 1,figsize=(15,10))\n",
    "ax.hist(df_tth['TTH'][(df_tth['TTH']<5000)&(df_tth['TTH']>quantile_tth)],bins=100)\n",
    "SetTTHLabels('Кандидаты (0.1 процент кандидатов)')\n",
    "plt.show()"
   ]
  },
  {
   "cell_type": "code",
   "execution_count": null,
   "id": "a51830b7",
   "metadata": {},
   "outputs": [],
   "source": [
    "fig, ax = plt.subplots(1, 1,figsize=(15,10))\n",
    "ax.hist(df_tth['TTH'][(df_tth['TTH']<quantile_tth)& (df_tth['TTH']>0)], bins = 100)\n",
    "SetTTHLabels('Кандидаты (99.9 процент кандидатов)')\n",
    "plt.show()"
   ]
  },
  {
   "cell_type": "code",
   "execution_count": null,
   "id": "d9ba3934",
   "metadata": {},
   "outputs": [],
   "source": [
    "df_fits['action_time'].quantile(.999)"
   ]
  },
  {
   "cell_type": "code",
   "execution_count": null,
   "id": "7a4986b4",
   "metadata": {},
   "outputs": [],
   "source": [
    "df_tth['TTH'][df_tth['TTH']>100]"
   ]
  },
  {
   "cell_type": "markdown",
   "id": "ad15cb4e",
   "metadata": {},
   "source": [
    "# Комменты"
   ]
  },
  {
   "cell_type": "code",
   "execution_count": null,
   "id": "ca216768",
   "metadata": {},
   "outputs": [],
   "source": [
    "# stage_name = 'Интервью с руководителем'\n",
    "# stage_series = df_fits['action_time'][df_fits['stage_name'] == stage_name]\n",
    "# time_threshold = stages_g.loc[stage_name]['75%']\n",
    "\n",
    "# df.iloc[stage_series[stage_series.values > time_threshold].index]\n",
    "\n",
    "\n",
    "# amount_applicant =  df_fits.groupby(['id_partner','id_applicant']).size().reset_index()\n",
    "# amount_applicant =  amount_applicant.groupby(['id_partner'])['id_applicant'].count().reset_index()\n",
    "# amount_applicant[amount_applicant['id_applicant']>3]\n",
    "\n",
    "\n",
    "# df.iloc[df[df['stage_name'] == 'Групповое собеседование и тестирование'].index+1]\n",
    "# print(len(stages[stages['count'] > stage_threshold]))\n",
    "# df.iloc[df[df['action_time'] < 0].index + 1]\n",
    "# df[df['activity_name'] == 'Провести первичную обработку']"
   ]
  },
  {
   "cell_type": "markdown",
   "id": "539b83e0",
   "metadata": {},
   "source": [
    "# Когорты"
   ]
  },
  {
   "cell_type": "code",
   "execution_count": null,
   "id": "268f7988",
   "metadata": {},
   "outputs": [],
   "source": [
    "df_min_date =df_fits.groupby(['id_applicant'])['action_date'].min().reset_index()\n",
    "df_cohort = pd.merge(df_tth, df_min_date, how = 'left', on=\"id_applicant\")\n",
    "df_cohort.rename(columns = {'action_date':'creation_date'}, inplace = True)\n",
    "fits_min =  df_fits[df_fits['result_name'] == 'Принят'].groupby(['id_applicant'])['action_date'].max().reset_index()\n",
    "df_cohort = pd.merge(df_cohort, fits_min, how = 'left', on=\"id_applicant\")\n",
    "df_cohort.rename(columns = {'action_date':'applied_date'}, inplace = True)\n",
    "# df_cohort['applied_date'] = df_cohort['applied_date'].dt.tz_localize(None)\n",
    "# df_cohort['creation_date'] = df_cohort['creation_date'].dt.tz_localize(None)\n",
    "date2018 = df_cohort['applied_date'].min().tzinfo.localize(pd.to_datetime(20180101, format='%Y%m%d'))\n",
    "df_cohort['applied_date_days'] = (df_cohort['applied_date'] - date2018).dt.days % 365\n",
    "df_cohort['creation_date_days'] = (df_cohort['creation_date'] - date2018).dt.days % 365\n",
    "\n",
    "# df_cohort.to_excel('cohort_new.xlsx')\n",
    "\n",
    "df_cohort"
   ]
  },
  {
   "cell_type": "code",
   "execution_count": null,
   "id": "4b7fba4d",
   "metadata": {},
   "outputs": [],
   "source": [
    "# Непонятный код\n",
    "date2018 = df_cohort['applied_date'].min().tzinfo.localize(pd.to_datetime(20180101, format='%Y%m%d'))\n",
    "df_cohort['weeks'] = (df_cohort['applied_date'] - date2018).dt.days\n",
    "df_cohort['weeks'] = (df_cohort['weeks'] % 365 / 7).astype(int)\n",
    "df_cohort['TTH_int'] = (df_cohort['TTH']/7).astype(int)\n",
    "# df_cohort[(df_cohort['TTH_int']>0)&(df_cohort['TTH_int']<10)]\n",
    "# retention_pivot = pd.DataFrame(df_cohort.pivot_table(index='weeks',\n",
    "#                                         columns='TTH_int',\n",
    "#                                         values='TTH',\n",
    "#                                         aggfunc='count'))\n",
    "# [(df_cohort['TTH_int']>0)&(df_cohort['TTH_int']<10)]\n",
    "# retention_pivot\n",
    "# retention_pivot[1].plot()\n",
    "# retention_pivot[1].index + 1\n",
    "\n",
    "\n",
    "\n",
    "# retention_pivot = pd.DataFrame(df_cohort.pivot_table(index='weeks',\n",
    "#                                         columns='TTH_int',\n",
    "#                                         values='TTH',\n",
    "#                                         aggfunc='count'))\n",
    "# [(df_cohort['TTH_int']>0)&(df_cohort['TTH_int']<10)]\n",
    "# retention_pivot.to_excel('cohort.xlsx')\n",
    "# retention_pivot[1].plot()\n",
    "# retention_pivot[1].index + 1\n",
    "\n",
    "# retention_pivot[1]\n",
    "\n",
    "\n",
    "\n",
    "# df_cohort['TTH_int'].max()\n",
    "# pd.DataFrame(20180101)\n",
    "\n",
    "# date = pd.to_datetime(20180101, format='%Y%m%d')\n",
    "# date = df_cohort['applied_date'].min().tzinfo.localize(pd.to_datetime(20180101, format='%Y%m%d'))\n",
    "# date\n",
    "# df_cohort['action_date'].min().tzinfo"
   ]
  },
  {
   "cell_type": "code",
   "execution_count": null,
   "id": "1d1181ae",
   "metadata": {},
   "outputs": [],
   "source": [
    "# Гистограмма\n",
    "def showHist(data, grouped_data, column_name = 'stage_name', col_threshold = 0, is_special = True, xy = 4):\n",
    "    \n",
    "    fig, axs = plt.subplots(xy, xy, figsize=(20,15))\n",
    "    i = 0\n",
    "    not_special_const = 5\n",
    "    \n",
    "    for col in data[column_name].unique():\n",
    "        series = data['action_time'][data[column_name] == col]\n",
    "        time_threshold = not_special_const\n",
    "        if is_special and col in grouped_data.index:\n",
    "            time_threshold = grouped_data.loc[col]['75%']\n",
    "        col_len = len(series)\n",
    "    \n",
    "        if col_len > col_threshold:\n",
    "            x, y =divmod(i, xy)\n",
    "            i+=1\n",
    "#             axs[x,y].set_ylabel('Кол-во')\n",
    "            axs[x,y].set_xlabel(f'{col}, {col_len}')\n",
    "            series[series.values < time_threshold].hist(ax=axs[x,y],bins=100)\n",
    "        print('.', end = '')\n",
    "    plt.show()\n",
    "\n",
    "def checkShowHist(data, grouped_data, column_name = 'stage_name', col_threshold = 0, is_special = True, xy = 4):\n",
    "    \n",
    "    not_special_const = 5\n",
    "    if is_special and len(data[column_name].unique()) != len(grouped_data):\n",
    "        print('Not all columns in grouped_data')\n",
    "    \n",
    "    i = 0\n",
    "    for col in data[column_name].unique():\n",
    "        series = data['action_time'][data[column_name] == col]\n",
    "        col_len = len(series)\n",
    "    \n",
    "        if col_len > col_threshold:\n",
    "            x, y =divmod(i, xy)\n",
    "            if x > xy or y > xy:\n",
    "                print(f'Too many columns in data for diagramm {xy}*{xy}')                \n",
    "            i+=1"
   ]
  },
  {
   "cell_type": "code",
   "execution_count": null,
   "id": "510b4f57",
   "metadata": {},
   "outputs": [],
   "source": [
    "# По стадиям\n",
    "showHist(df_fits, stages_g, 'stage_name', stage_threshold)"
   ]
  },
  {
   "cell_type": "code",
   "execution_count": null,
   "id": "fd52db83",
   "metadata": {},
   "outputs": [],
   "source": [
    "# По активностям\n",
    "showHist(df_fits, activities_g, 'activity_name', activity_threshold, True)"
   ]
  },
  {
   "cell_type": "code",
   "execution_count": null,
   "id": "389f2586",
   "metadata": {},
   "outputs": [],
   "source": [
    "# По результатам\n",
    "showHist(df_fits, results_g, 'result_name', result_threshold, True, 6)"
   ]
  }
 ],
 "metadata": {
  "kernelspec": {
   "display_name": "Python 3 (ipykernel)",
   "language": "python",
   "name": "python3"
  },
  "language_info": {
   "codemirror_mode": {
    "name": "ipython",
    "version": 3
   },
   "file_extension": ".py",
   "mimetype": "text/x-python",
   "name": "python",
   "nbconvert_exporter": "python",
   "pygments_lexer": "ipython3",
   "version": "3.8.10"
  }
 },
 "nbformat": 4,
 "nbformat_minor": 5
}
