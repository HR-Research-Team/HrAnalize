{
 "cells": [
  {
   "cell_type": "markdown",
   "id": "92973c3d",
   "metadata": {},
   "source": [
    "# Bool\n",
    "закодировать\n",
    "# Questions\n",
    "result_name оставить нул?"
   ]
  },
  {
   "cell_type": "markdown",
   "id": "8c6f7672",
   "metadata": {},
   "source": [
    "# Импорт основных библиотек и датасета"
   ]
  },
  {
   "cell_type": "code",
   "execution_count": 1,
   "id": "3720e249",
   "metadata": {},
   "outputs": [],
   "source": [
    "import pandas as pd\n",
    "import seaborn as sns\n",
    "import matplotlib.pyplot as plt\n",
    "\n",
    "# graph\n",
    "import networkx as nx\n",
    "from pyvis.network import Network"
   ]
  },
  {
   "cell_type": "code",
   "execution_count": 2,
   "id": "2a119e65",
   "metadata": {},
   "outputs": [
    {
     "name": "stderr",
     "output_type": "stream",
     "text": [
      "C:\\Users\\Dmitry\\AppData\\Roaming\\Python\\Python37\\site-packages\\IPython\\core\\interactiveshell.py:3444: DtypeWarning: Columns (6,7) have mixed types.Specify dtype option on import or set low_memory=False.\n",
      "  exec(code_obj, self.user_global_ns, self.user_ns)\n"
     ]
    }
   ],
   "source": [
    "PATHES = [\"./with_closed_ations_as________select_app_2018_X5_STORES.csv\", \"./with_closed_ations_as________select_app_2019_X5_STORES.csv\", \"./with_closed_ations_as________select_app_2020_X5_STORES.csv\"]\n",
    "# df = pd.read_csv(PATH)\n",
    "df = pd.DataFrame()\n",
    "for path in PATHES:\n",
    "    df1 = pd.read_csv(path)\n",
    "    df = pd.concat([df, df1])\n",
    "    \n",
    "df['action_date'] = pd.to_datetime(df['action_date'])\n",
    "df = df[df['position_name'] == 'Продавец-кассир']"
   ]
  },
  {
   "cell_type": "markdown",
   "id": "849aad11",
   "metadata": {},
   "source": [
    "# изменение bool значений"
   ]
  },
  {
   "cell_type": "code",
   "execution_count": 3,
   "id": "d5db30cd",
   "metadata": {},
   "outputs": [
    {
     "name": "stderr",
     "output_type": "stream",
     "text": [
      "C:\\Users\\Dmitry\\AppData\\Roaming\\Python\\Python37\\site-packages\\pandas\\core\\indexing.py:1732: SettingWithCopyWarning: \n",
      "A value is trying to be set on a copy of a slice from a DataFrame\n",
      "\n",
      "See the caveats in the documentation: https://pandas.pydata.org/pandas-docs/stable/user_guide/indexing.html#returning-a-view-versus-a-copy\n",
      "  self._setitem_single_block(indexer, value, name)\n"
     ]
    },
    {
     "name": "stdout",
     "output_type": "stream",
     "text": [
      "357\n",
      "243\n",
      "207\n",
      "191\n",
      "175\n",
      "167\n",
      "82\n",
      "34\n",
      "24\n",
      "18\n",
      "15\n",
      "15\n",
      "11\n",
      "10\n",
      "1\n",
      "0\n"
     ]
    }
   ],
   "source": [
    "df[\"is_active_action\"] = df.is_active_action.replace({True: 1, False: 0})\n",
    "df[\"is_open_action\"] = df.is_open_action.replace({True: 1, False: 0})\n",
    "\n",
    "df = df[df['is_active_action'] == 1]\n",
    "\n",
    "# Сортируем по аппликантам и по времени\n",
    "df.sort_values(by=['id_applicant','action_date'], ascending = [False,True], inplace = True)\n",
    "df.reset_index(drop = True, inplace = True)\n",
    "\n",
    "# расчет action_time\n",
    "indexes = pd.RangeIndex(len(df) - 1)\n",
    "df['action_time'] = (df.iloc[indexes + 1]['action_date'].reset_index(drop = True) - df['action_date']).dt.total_seconds()/60/60/24 # In days\n",
    "df['action_time'].iloc[df[df['id_applicant'] !=  df.iloc[indexes+1].append({'id_applicant': 0}, ignore_index = True)['id_applicant'].reset_index(drop = True)].index] = None\n",
    "\n",
    "# Отделяем принятых кандидатов\n",
    "df['is_fits'] = 0\n",
    "df.loc[df['result_name'] == 'Принят', 'is_fits'] = 1\n",
    "applicants_fits =  df.groupby(['id_applicant'])['is_fits'].sum()\n",
    "df_fits = df[df['id_applicant'].isin(applicants_fits[applicants_fits > 0].index)].reset_index()\n",
    "df_fits = df_fits[df_fits['is_active_action'] == 1]\n",
    "\n",
    "# Оставляем последнего аппликанта на партнера\n",
    "df_fits['Date_int'] = df_fits['action_date'].values.astype('int64')\n",
    "partner_applicant =  df_fits.groupby(['id_partner','id_applicant'])['Date_int'].max().reset_index()\n",
    "amount_applicant =  partner_applicant.groupby(['id_partner'])['Date_int'].max().reset_index()\n",
    "partner_applicant = partner_applicant[partner_applicant['Date_int'].isin(amount_applicant['Date_int'])]\n",
    "df_fits = df_fits[df_fits['id_applicant'].isin(partner_applicant['id_applicant'])].reset_index(drop = True)\n",
    "\n",
    "# Ищем первое принят\n",
    "applicant_min =  df_fits.groupby(['id_applicant'])['action_date'].min().reset_index()\n",
    "fits_min =  df_fits[df_fits['result_name'] == 'Принят'].groupby(['id_applicant'])['action_date'].min().reset_index()\n",
    "\n",
    "# Обнуляем время стадий после принятия\n",
    "df_fits.loc[df_fits['action_date'].isin(fits_min['action_date']) & (df_fits['action_time'].notna()), 'after_fit'] = 1\n",
    "while True:\n",
    "    after_indexes = df_fits[(df_fits['action_time'].notna())& (df_fits['after_fit'] == 1)].index\n",
    "    after_fit_mask = (df_fits.index.isin(after_indexes + 1) & (df_fits['action_time'].notna())) & df_fits['after_fit'].isna()\n",
    "    print(len(df_fits.loc[after_fit_mask]))\n",
    "    if len(df_fits.loc[after_fit_mask]) == 0:\n",
    "        break\n",
    "    df_fits.loc[after_fit_mask, 'after_fit'] = 1\n",
    "df_fits.loc[df_fits['after_fit'] == 1, 'action_time'] = 0\n",
    "\n",
    "# Обнуляем время в результатах без предсказуемой последующей обработки\n",
    "results_empty = ['Резерв', 'Не подходит', 'Не принят', 'Отказ кандидата', 'Отказ руководителя', 'Принят', 'Резерв', 'Кадровый резерв']\n",
    "for res in results_empty:\n",
    "    df_fits.loc[(df_fits['result_name'] == res) & df_fits['action_time'].notna(), 'action_time'] = 0\n",
    "df_fits.loc[(df_fits['stage_name'] == 'Создание кандидата') & df_fits['action_time'].notna(), 'action_time'] = 0\n"
   ]
  }
 ],
 "metadata": {
  "kernelspec": {
   "display_name": "Python 3 (ipykernel)",
   "language": "python",
   "name": "python3"
  },
  "language_info": {
   "codemirror_mode": {
    "name": "ipython",
    "version": 3
   },
   "file_extension": ".py",
   "mimetype": "text/x-python",
   "name": "python",
   "nbconvert_exporter": "python",
   "pygments_lexer": "ipython3",
   "version": "3.7.8"
  }
 },
 "nbformat": 4,
 "nbformat_minor": 5
}
